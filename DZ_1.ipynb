{
 "cells": [
  {
   "cell_type": "code",
   "execution_count": 1,
   "id": "cf05316c",
   "metadata": {},
   "outputs": [],
   "source": [
    "# Загружаем библиотеки\n",
    "import nltk # Обработка естественного языка\n",
    "import pandas as pd # Датафреймы pandas\n",
    "import bz2 # Сжатие в формате bz2\n",
    "import json # Сжатие в формате json\n",
    "import re # Регулярные выражения\n",
    "import nltk # Обработка естественного языка\n",
    "from nltk.corpus import stopwords # Стоп-слова\n",
    "import pymorphy2 # Морфологический анализатор\n",
    "import matplotlib.pyplot as plt # Построение графиков\n",
    "from nltk import word_tokenize # Токенизация текста\n",
    "from nltk.probability import FreqDist # Анализ частоты встречаемости\n",
    "from gensim.corpora import Dictionary # Словари\n",
    "from gensim.models import TfidfModel # Модель TF-IDF\n",
    "from gensim.models import lsimodel # Модель LSA\n",
    "from sklearn.model_selection import train_test_split # Разделение выборки на обучающую и тестовую\n",
    "from sklearn.feature_extraction.text import CountVectorizer # Векторизация слов\n",
    "from sklearn.ensemble import RandomForestClassifier # Модель случайного леса\n",
    "from sklearn.feature_extraction.text import TfidfTransformer # Преобразование TF-IDF\n",
    "from sklearn.pipeline import Pipeline # Последовательности преобразований\n",
    "from sklearn.decomposition import TruncatedSVD # Семантический анализ\n",
    "from sklearn.decomposition import LatentDirichletAllocation # Анализ LDA"
   ]
  },
  {
   "cell_type": "markdown",
   "id": "5155a5e6",
   "metadata": {},
   "source": [
    "#### Загрузка и предобработка данных"
   ]
  },
  {
   "cell_type": "code",
   "execution_count": 2,
   "id": "dd7f0da6",
   "metadata": {},
   "outputs": [],
   "source": [
    "# Читаем отзывы и записываем в список в виде словарей\n",
    "responses = []\n",
    "with bz2.BZ2File('banki_responses.json.bz2', 'r') as thefile:\n",
    "    for row in thefile:\n",
    "        resp = json.loads(row)\n",
    "        # Проверяем наличие оценки и текста отзыва\n",
    "        if not resp['rating_not_checked'] and resp['rating_grade'] != None and (len(resp['text'].split()) > 0):\n",
    "            responses.append(resp)"
   ]
  },
  {
   "cell_type": "code",
   "execution_count": 4,
   "id": "88c054a4",
   "metadata": {},
   "outputs": [],
   "source": [
    "# Преобразуем в датафрейм\n",
    "data = pd.DataFrame.from_dict(responses)"
   ]
  },
  {
   "cell_type": "code",
   "execution_count": 5,
   "id": "29e79e13",
   "metadata": {},
   "outputs": [],
   "source": [
    "# Выделим все слова, состоящие из русских и латинских букв,\n",
    "# приведём к нижнему регистру\n",
    "words = re.compile(\"[a-zA-Zа-яёА-ЯË]+\")\n",
    "def words_only(text):\n",
    "    return \" \".join(words.findall(text)).lower()\n",
    "\n",
    "# Результат записываем в отдельный столбец\n",
    "data['text_words_only'] = data['text'].apply(words_only)"
   ]
  },
  {
   "cell_type": "code",
   "execution_count": 6,
   "id": "66858d63",
   "metadata": {},
   "outputs": [],
   "source": [
    "# Удалим стоп-слова\n",
    "mystopwords = stopwords.words('russian') + [\n",
    "    'это', 'наш' , 'тыс', 'млн', 'млрд', 'также',  'т', 'д', 'г',\n",
    "    'который', 'прошлый', 'сей', 'свой', 'наш', 'мочь', 'такой'\n",
    "]\n",
    "\n",
    "def remove_stopwords(text, mystopwords = mystopwords):\n",
    "    try:\n",
    "        return \" \".join([token for token in text.split() if not token in mystopwords])\n",
    "    except:\n",
    "        return \"\"\n",
    "\n",
    "data['text_words_no_stop'] = data['text_words_only'].apply(remove_stopwords)    "
   ]
  },
  {
   "cell_type": "code",
   "execution_count": 7,
   "id": "d654c870",
   "metadata": {},
   "outputs": [],
   "source": [
    "# Приведём все слова к простым формам\n",
    "m = pymorphy2.MorphAnalyzer()\n",
    "def lemmatize(text):\n",
    "    try:\n",
    "        return  \" \".join([m.parse(w)[0].normal_form for w in text.split()])\n",
    "    except:\n",
    "        return \" \"\n",
    "    \n",
    "data['text_lemmatize'] = data['text_words_no_stop'].apply(lemmatize)      "
   ]
  },
  {
   "cell_type": "code",
   "execution_count": 2,
   "id": "c3c29842",
   "metadata": {},
   "outputs": [],
   "source": [
    "# Сохраним результат для ускорения работы\n",
    "# data.to_csv('data.csv')\n",
    "# data = pd.read_csv('data.csv')"
   ]
  },
  {
   "cell_type": "markdown",
   "id": "63a0910e",
   "metadata": {},
   "source": [
    "### Часть 1"
   ]
  },
  {
   "cell_type": "markdown",
   "id": "ece0a788",
   "metadata": {},
   "source": [
    "#### Задание 1.1"
   ]
  },
  {
   "cell_type": "code",
   "execution_count": 12,
   "id": "222e26ab",
   "metadata": {},
   "outputs": [
    {
     "data": {
      "text/html": [
       "<div>\n",
       "<style scoped>\n",
       "    .dataframe tbody tr th:only-of-type {\n",
       "        vertical-align: middle;\n",
       "    }\n",
       "\n",
       "    .dataframe tbody tr th {\n",
       "        vertical-align: top;\n",
       "    }\n",
       "\n",
       "    .dataframe thead th {\n",
       "        text-align: right;\n",
       "    }\n",
       "</style>\n",
       "<table border=\"1\" class=\"dataframe\">\n",
       "  <thead>\n",
       "    <tr style=\"text-align: right;\">\n",
       "      <th></th>\n",
       "      <th></th>\n",
       "      <th>text</th>\n",
       "    </tr>\n",
       "    <tr>\n",
       "      <th>city</th>\n",
       "      <th>bank_name</th>\n",
       "      <th></th>\n",
       "    </tr>\n",
       "  </thead>\n",
       "  <tbody>\n",
       "    <tr>\n",
       "      <th>г. ...</th>\n",
       "      <th>Авангард</th>\n",
       "      <td>1</td>\n",
       "    </tr>\n",
       "    <tr>\n",
       "      <th>г. ....</th>\n",
       "      <th>Авангард</th>\n",
       "      <td>1</td>\n",
       "    </tr>\n",
       "    <tr>\n",
       "      <th>г. 112422</th>\n",
       "      <th>Хоум Кредит Банк</th>\n",
       "      <td>1</td>\n",
       "    </tr>\n",
       "    <tr>\n",
       "      <th>г. 143420 Московская область, Красногорский район, посёлок дачного хозяйства Архангельское, д.4,кв.2</th>\n",
       "      <th>Банк Москвы</th>\n",
       "      <td>1</td>\n",
       "    </tr>\n",
       "    <tr>\n",
       "      <th>г. 2-я Гавриловка</th>\n",
       "      <th>Сбербанк России</th>\n",
       "      <td>1</td>\n",
       "    </tr>\n",
       "  </tbody>\n",
       "</table>\n",
       "</div>"
      ],
      "text/plain": [
       "                                                                     text\n",
       "city                                               bank_name             \n",
       "г. ...                                             Авангард             1\n",
       "г. ....                                            Авангард             1\n",
       "г. 112422                                          Хоум Кредит Банк     1\n",
       "г. 143420 Московская область, Красногорский рай... Банк Москвы          1\n",
       "г. 2-я Гавриловка                                  Сбербанк России      1"
      ]
     },
     "execution_count": 12,
     "metadata": {},
     "output_type": "execute_result"
    }
   ],
   "source": [
    "# Есть ошибки в варианты написания городов, их нужно исправлять, это трудоёмко и в поставленную задачу не входит\n",
    "data.groupby(['city', 'bank_name']).agg({'text': 'count'}).head()"
   ]
  },
  {
   "cell_type": "markdown",
   "id": "6b8645d4",
   "metadata": {},
   "source": [
    "#### Задание 1.2"
   ]
  },
  {
   "cell_type": "code",
   "execution_count": 13,
   "id": "8da3196b",
   "metadata": {},
   "outputs": [],
   "source": [
    "# В Slack было уточнение, что нужно считать длины СООБЩЕНИЙ в символах и в словах"
   ]
  },
  {
   "cell_type": "code",
   "execution_count": 14,
   "id": "696e4dda",
   "metadata": {},
   "outputs": [],
   "source": [
    "# Перебираем отзывы и считаем количество символов в каждом\n",
    "char_count = {}\n",
    "for text in data['text']:\n",
    "    try:\n",
    "        char_count[len(text)] += 1\n",
    "    except:\n",
    "        char_count[len(text)] = 1"
   ]
  },
  {
   "cell_type": "code",
   "execution_count": 15,
   "id": "3c5de70d",
   "metadata": {},
   "outputs": [
    {
     "data": {
      "image/png": "[encoded data removed]",
      "text/plain": [
       "<Figure size 1152x504 with 1 Axes>"
      ]
     },
     "metadata": {
      "needs_background": "light"
     },
     "output_type": "display_data"
    }
   ],
   "source": [
    "# Гистограмма длин сообщений в символах\n",
    "plt.figure(figsize = (16, 7))\n",
    "plt.bar(char_count.keys(), char_count.values(), edgecolor = 'black')\n",
    "plt.xlim(0, 20000)\n",
    "plt.title('Гистограмма длин сообщений в символах', fontsize = 'x-large', fontweight = 'bold')\n",
    "plt.xlabel('Количество символов', fontsize = 'x-large')\n",
    "plt.ylabel('Количество вхождений сообщений', fontsize = 'x-large')\n",
    "\n",
    "plt.show()"
   ]
  },
  {
   "cell_type": "code",
   "execution_count": 16,
   "id": "ca237770",
   "metadata": {},
   "outputs": [],
   "source": [
    "# Перебираем отзывы и считаем количество слов\n",
    "word_count = {}\n",
    "for text in data['text_words_only']:\n",
    "    try:\n",
    "        word_count[len(text.split())] += 1\n",
    "    except:\n",
    "        word_count[len(text.split())] = 1"
   ]
  },
  {
   "cell_type": "code",
   "execution_count": 17,
   "id": "1fe23212",
   "metadata": {},
   "outputs": [
    {
     "data": {
      "image/png": "[encoded data removed]",
      "text/plain": [
       "<Figure size 1152x504 with 1 Axes>"
      ]
     },
     "metadata": {
      "needs_background": "light"
     },
     "output_type": "display_data"
    }
   ],
   "source": [
    "# Гистограмма длин сообщений в словах\n",
    "plt.figure(figsize = (16, 7))\n",
    "plt.bar(word_count.keys(), word_count.values(), edgecolor = 'black')\n",
    "plt.xlim(0, 2000)\n",
    "plt.title('Гистограмма длин сообщений в словах', fontsize = 'x-large', fontweight = 'bold')\n",
    "plt.xlabel('Количество слов', fontsize = 'x-large')\n",
    "plt.ylabel('Количество вхождений сообщений', fontsize = 'x-large')\n",
    "\n",
    "plt.show()"
   ]
  },
  {
   "cell_type": "markdown",
   "id": "b900f1f4",
   "metadata": {},
   "source": [
    "#### Задание 1.3"
   ]
  },
  {
   "cell_type": "code",
   "execution_count": 18,
   "id": "a1ca03c9",
   "metadata": {},
   "outputs": [
    {
     "name": "stdout",
     "output_type": "stream",
     "text": [
      "10 самых частых слов: в, и, не, на, что, я, с, по, мне, банка, "
     ]
    }
   ],
   "source": [
    "# Анализ частоты встречаемости слов\n",
    "\n",
    "# Соединим все сообщения в один большой текст\n",
    "all_words = []\n",
    "for text in data['text_words_only']:\n",
    "    all_words += text.split()\n",
    "    \n",
    "fdist = FreqDist(all_words)\n",
    "print('10 самых частых слов:', end = ' ')\n",
    "for word in fdist.most_common(10):\n",
    "    print(word[0], end = ', ')"
   ]
  },
  {
   "cell_type": "code",
   "execution_count": 19,
   "id": "bbde929f",
   "metadata": {},
   "outputs": [
    {
     "name": "stdout",
     "output_type": "stream",
     "text": [
      "10 самых частых слов без стоп-слов: банка, банк, деньги, карту, карты, отделение, день, кредит, банке, заявление, "
     ]
    }
   ],
   "source": [
    "# Соединим все сообщения без стоп-слов в один большой текст\n",
    "all_words_no_stop = []\n",
    "for text in data['text_words_no_stop']:\n",
    "    all_words_no_stop += text.split()\n",
    "\n",
    "fdist = FreqDist(all_words_no_stop)\n",
    "print('10 самых частых слов без стоп-слов:', end = ' ')\n",
    "for word in fdist.most_common(10):\n",
    "    print(word[0], end = ', ')"
   ]
  },
  {
   "cell_type": "code",
   "execution_count": 20,
   "id": "5af57a3c",
   "metadata": {},
   "outputs": [
    {
     "name": "stdout",
     "output_type": "stream",
     "text": [
      "10 самых частых лемм: банк, карта, деньга, день, отделение, мой, счёт, кредит, сотрудник, клиент, "
     ]
    }
   ],
   "source": [
    "# Соединим все сообщения из лемм в один большой текст\n",
    "all_words_lemmatize = []\n",
    "for text in data['text_lemmatize']:\n",
    "    all_words_lemmatize += text.split()\n",
    "\n",
    "fdist = FreqDist(all_words_lemmatize)\n",
    "print('10 самых частых лемм:', end = ' ')\n",
    "for word in fdist.most_common(10):\n",
    "    print(word[0], end = ', ')"
   ]
  },
  {
   "cell_type": "code",
   "execution_count": 21,
   "id": "e3ac58c7",
   "metadata": {},
   "outputs": [],
   "source": [
    "# Размечаем части речи\n",
    "all_words_lemmatize_tagged = nltk.pos_tag(all_words_lemmatize, lang = 'rus')"
   ]
  },
  {
   "cell_type": "code",
   "execution_count": 22,
   "id": "3166e44e",
   "metadata": {},
   "outputs": [],
   "source": [
    "# Отбираем существительные с тегом 'S' и записываем их в отдельный список\n",
    "nouns = []\n",
    "for word in all_words_lemmatize_tagged:\n",
    "    if word[1] == 'S':\n",
    "        nouns.append(word[0])"
   ]
  },
  {
   "cell_type": "code",
   "execution_count": 23,
   "id": "555a629f",
   "metadata": {},
   "outputs": [
    {
     "name": "stdout",
     "output_type": "stream",
     "text": [
      "10 самых частых существительных: банк, карта, день, деньга, отделение, счёт, сотрудник, клиент, кредит, заявление, "
     ]
    }
   ],
   "source": [
    "fdist = FreqDist(nouns)\n",
    "print('10 самых частых существительных:', end = ' ')\n",
    "for word in fdist.most_common(10):\n",
    "    print(word[0], end = ', ')"
   ]
  },
  {
   "cell_type": "markdown",
   "id": "d0dca31f",
   "metadata": {},
   "source": [
    "#### Задание 1.4"
   ]
  },
  {
   "cell_type": "code",
   "execution_count": 24,
   "id": "cd31f9fd",
   "metadata": {},
   "outputs": [],
   "source": [
    "# Определяем частоту встречаемости лемм\n",
    "fdist = FreqDist(all_words_lemmatize)"
   ]
  },
  {
   "cell_type": "code",
   "execution_count": 25,
   "id": "026fb8ac",
   "metadata": {},
   "outputs": [
    {
     "data": {
      "image/png": "[encoded data removed]",
      "text/plain": [
       "<Figure size 1152x504 with 1 Axes>"
      ]
     },
     "metadata": {
      "needs_background": "light"
     },
     "output_type": "display_data"
    }
   ],
   "source": [
    "# График Ципфа\n",
    "plt.figure(figsize=(16, 7))\n",
    "plt.plot(range(1, len(fdist) + 1), sorted(fdist.values(), reverse = True))\n",
    "plt.xlim(0, 100)\n",
    "plt.ylim(0)\n",
    "plt.title('Кривая Ципфа', fontsize = 'x-large', fontweight = 'bold')\n",
    "plt.xlabel('Ранг', fontsize = 'x-large')\n",
    "plt.ylabel('Частота', fontsize = 'x-large')\n",
    "\n",
    "plt.show()"
   ]
  },
  {
   "cell_type": "code",
   "execution_count": 26,
   "id": "b5534d58",
   "metadata": {},
   "outputs": [],
   "source": [
    "# Создаём словарь в который записываем количество отзывов и количество слов в них\n",
    "heaps = {}\n",
    "# Проходим от одного до 1000 отзывов (для максимального количества отзывов работает слишком долго)\n",
    "for text_number in range(1, 1000):\n",
    "    # Объединяем тексты нужного количества отзывов и считаем количество одинаковых слов\n",
    "    text = data['text_words_only'][0:(text_number)].sum()\n",
    "    heaps[text_number] = len(set(text.split()))"
   ]
  },
  {
   "cell_type": "code",
   "execution_count": 27,
   "id": "0e153ec7",
   "metadata": {},
   "outputs": [
    {
     "data": {
      "image/png": "[encoded data removed]",
      "text/plain": [
       "<Figure size 1152x504 with 1 Axes>"
      ]
     },
     "metadata": {
      "needs_background": "light"
     },
     "output_type": "display_data"
    }
   ],
   "source": [
    "# График Хипса\n",
    "plt.figure(figsize=(16, 7))\n",
    "plt.plot(range(1, len(heaps) + 1), sorted(heaps.values()))\n",
    "plt.xlim(0, 1000)\n",
    "plt.ylim(0)\n",
    "plt.title('Кривая Хипса', fontsize = 'x-large', fontweight = 'bold')\n",
    "plt.xlabel('Количество отзывов', fontsize = 'x-large')\n",
    "plt.ylabel('Количество различных слов', fontsize = 'x-large')\n",
    "\n",
    "plt.show()"
   ]
  },
  {
   "cell_type": "markdown",
   "id": "440c6fb6",
   "metadata": {},
   "source": [
    "#### Задание 1.5"
   ]
  },
  {
   "cell_type": "code",
   "execution_count": 28,
   "id": "166014a6",
   "metadata": {},
   "outputs": [
    {
     "name": "stdout",
     "output_type": "stream",
     "text": [
      "Какое слово встречается чаще, \"сотрудник\" или \"клиент\"?\n",
      "- среди всех форм слов: сотрудник\n",
      "- среди лемм: сотрудник\n"
     ]
    }
   ],
   "source": [
    "print('Какое слово встречается чаще, \"сотрудник\" или \"клиент\"?')\n",
    "print('- среди всех форм слов: ', end = '')\n",
    "fdist = FreqDist(all_words)\n",
    "if fdist['сотрудник'] > fdist['клиент']:\n",
    "    print('сотрудник')\n",
    "else:\n",
    "    print('клиент')\n",
    "\n",
    "print('- среди лемм: ', end = '')\n",
    "fdist = FreqDist(all_words_lemmatize)\n",
    "if fdist['сотрудник'] > fdist['клиент']:\n",
    "    print('сотрудник')\n",
    "else:\n",
    "    print('клиент')"
   ]
  },
  {
   "cell_type": "code",
   "execution_count": 29,
   "id": "b9fadb55",
   "metadata": {},
   "outputs": [
    {
     "name": "stdout",
     "output_type": "stream",
     "text": [
      "Сколько раз встречается слова \"мошенничество\" и \"доверие\"?\n",
      "- среди всех форм слов: мошенничество 493, доверие 699\n",
      "- среди лемм: мошенничество 1299, доверие 1259\n"
     ]
    }
   ],
   "source": [
    "print('Сколько раз встречается слова \"мошенничество\" и \"доверие\"?')\n",
    "fdist = FreqDist(all_words)\n",
    "print(f'- среди всех форм слов: мошенничество {fdist[\"мошенничество\"]}, доверие {fdist[\"доверие\"]}')\n",
    "\n",
    "fdist = FreqDist(all_words_lemmatize)\n",
    "print(f'- среди лемм: мошенничество {fdist[\"мошенничество\"]}, доверие {fdist[\"доверие\"]}')"
   ]
  },
  {
   "cell_type": "markdown",
   "id": "d93c0b01",
   "metadata": {},
   "source": [
    "#### Задание 1.6"
   ]
  },
  {
   "cell_type": "code",
   "execution_count": 62,
   "id": "1c899405",
   "metadata": {},
   "outputs": [],
   "source": [
    "# Объединим все отзывы в список слов\n",
    "texts_list = [text.split() for text in data['text_lemmatize']]"
   ]
  },
  {
   "cell_type": "code",
   "execution_count": 33,
   "id": "867093e9",
   "metadata": {},
   "outputs": [],
   "source": [
    "# Создаём словари\n",
    "dictionary = Dictionary(texts_list)\n",
    "corpus = [dictionary.doc2bow(text) for text in texts_list]"
   ]
  },
  {
   "cell_type": "code",
   "execution_count": 7,
   "id": "2ba3b397",
   "metadata": {},
   "outputs": [],
   "source": [
    "# Модель TF-IDF\n",
    "tfidf = TfidfModel(corpus)"
   ]
  },
  {
   "cell_type": "code",
   "execution_count": 8,
   "id": "7d6ecd8a",
   "metadata": {},
   "outputs": [],
   "source": [
    "# Объединим все отзывы с оценкой 5 в один список\n",
    "texts_5 = []\n",
    "for text in data[data['rating_grade'] == 5]['text_lemmatize']:\n",
    "    texts_5 += text.split()\n",
    "corpus_5 = dictionary.doc2bow(texts_5)"
   ]
  },
  {
   "cell_type": "code",
   "execution_count": 9,
   "id": "7fcc670e",
   "metadata": {},
   "outputs": [],
   "source": [
    "# Считаем значимость слов и сортируем по значимости\n",
    "words_5 = tfidf[corpus_5]\n",
    "words_5.sort(key = lambda x: x[1], reverse = True)"
   ]
  },
  {
   "cell_type": "code",
   "execution_count": 10,
   "id": "2dcc81a7",
   "metadata": {},
   "outputs": [
    {
     "name": "stdout",
     "output_type": "stream",
     "text": [
      "Ключевые слова для положительных отзывов: вклад, очень, карта, кредит, спасибо, "
     ]
    }
   ],
   "source": [
    "# Берём наиболее встречающиеся ключевые слова\n",
    "print('Ключевые слова для положительных отзывов: ', end = '')\n",
    "for word, score in words_5[:5]:\n",
    "    print(dictionary[word], end = ', ')"
   ]
  },
  {
   "cell_type": "code",
   "execution_count": 11,
   "id": "8cb0d899",
   "metadata": {},
   "outputs": [
    {
     "name": "stdout",
     "output_type": "stream",
     "text": [
      "Ключевые слова для отрицательных отзывов: карта, кредит, заявление, счёт, деньга, "
     ]
    }
   ],
   "source": [
    "# Аналогично, для отзывов с оценкой 1\n",
    "texts_1 = []\n",
    "for text in data[data['rating_grade'] == 1]['text_lemmatize']:\n",
    "    texts_1 += text.split()\n",
    "corpus_1 = dictionary.doc2bow(texts_1)\n",
    "words_1 = tfidf[corpus_1]\n",
    "words_1.sort(key = lambda x: x[1], reverse = True)\n",
    "print('Ключевые слова для отрицательных отзывов: ', end = '')\n",
    "for word, score in words_1[:5]:\n",
    "    print(dictionary[word], end = ', ')"
   ]
  },
  {
   "cell_type": "code",
   "execution_count": 12,
   "id": "7cb630a7",
   "metadata": {},
   "outputs": [],
   "source": [
    "# Получим биграммы для всех сообщений\n",
    "bigram_list = []\n",
    "for text in texts_list:\n",
    "    bigram = [' '.join([word_0, word_1]) for word_0, word_1 in nltk.bigrams(text)]\n",
    "    bigram_list += [bigram]"
   ]
  },
  {
   "cell_type": "code",
   "execution_count": 13,
   "id": "8abe6849",
   "metadata": {},
   "outputs": [],
   "source": [
    "# Создаём словари\n",
    "dictionary_bigram = Dictionary(bigram_list)\n",
    "corpus_bigram = [dictionary_bigram.doc2bow(text) for text in bigram_list]"
   ]
  },
  {
   "cell_type": "code",
   "execution_count": 14,
   "id": "ffdff9ad",
   "metadata": {},
   "outputs": [],
   "source": [
    "# Модель TF-IDF\n",
    "tfidf_bigram = TfidfModel(corpus_bigram)"
   ]
  },
  {
   "cell_type": "code",
   "execution_count": 27,
   "id": "8253f1ce",
   "metadata": {},
   "outputs": [],
   "source": [
    "# Получим биграммы отзывов с оценкой 5\n",
    "texts_bigram_5 = [' '.join([word_0, word_1]) for word_0, word_1 in nltk.bigrams(texts_5)]\n",
    "corpus_bigram_5 = dictionary_bigram.doc2bow(texts_bigram_5)"
   ]
  },
  {
   "cell_type": "code",
   "execution_count": 29,
   "id": "6a0dd4e5",
   "metadata": {},
   "outputs": [
    {
     "name": "stdout",
     "output_type": "stream",
     "text": [
      "Ключевые биграммы для положительных отзывов: интернет банк, сотрудник банк, следующий день, дебетовый карта, другой банк, "
     ]
    }
   ],
   "source": [
    "bigram_5 = tfidf[corpus_bigram_5]\n",
    "bigram_5.sort(key = lambda x: x[1], reverse = True)\n",
    "print('Ключевые биграммы для положительных отзывов: ', end = '')\n",
    "for word, score in bigram_5[:5]:\n",
    "    print(dictionary_bigram[word], end = ', ')"
   ]
  },
  {
   "cell_type": "code",
   "execution_count": 30,
   "id": "75f391c3",
   "metadata": {},
   "outputs": [
    {
     "name": "stdout",
     "output_type": "stream",
     "text": [
      "Ключевые биграммы для отрицательных отзывов: сотрудник банк, отделение банк, досрочный погашение, колл центр, кредитный договор, "
     ]
    }
   ],
   "source": [
    "# Аналогично, для отзывов с оценкой 1\n",
    "texts_bigram_1 = [' '.join([word_0, word_1]) for word_0, word_1 in nltk.bigrams(texts_1)]\n",
    "corpus_bigram_1 = dictionary_bigram.doc2bow(texts_bigram_1)\n",
    "bigram_1 = tfidf[corpus_bigram_1]\n",
    "bigram_1.sort(key = lambda x: x[1], reverse = True)\n",
    "print('Ключевые биграммы для отрицательных отзывов: ', end = '')\n",
    "for word, score in bigram_1[:5]:\n",
    "    print(dictionary_bigram[word], end = ', ')"
   ]
  },
  {
   "cell_type": "code",
   "execution_count": null,
   "id": "8ec06f10",
   "metadata": {},
   "outputs": [],
   "source": [
    "# С моей точки зрения, результат неверный. Где-то ошибка.\n",
    "# Полученные слова и биграммы не характеризуют всю совокупность отрицательных и положительных отзывов, \n",
    "# некоторые из них встречаются как для положительных, так и для отрицательных отзывов."
   ]
  },
  {
   "cell_type": "markdown",
   "id": "c000019d",
   "metadata": {},
   "source": [
    "### Часть 2"
   ]
  },
  {
   "cell_type": "markdown",
   "id": "988c0151",
   "metadata": {},
   "source": [
    "#### Задание 2.1"
   ]
  },
  {
   "cell_type": "code",
   "execution_count": 34,
   "id": "32a5a00a",
   "metadata": {},
   "outputs": [],
   "source": [
    "# Латентно-семантический анализ LSA\n",
    "corpus_tfidf = tfidf[corpus]"
   ]
  },
  {
   "cell_type": "code",
   "execution_count": 56,
   "id": "8f8dfa3d",
   "metadata": {},
   "outputs": [
    {
     "data": {
      "text/plain": [
       "[(0,\n",
       "  '0.191*\"карта\" + 0.130*\"кредит\" + 0.110*\"деньга\" + 0.110*\"заявление\" + 0.109*\"вклад\" + 0.106*\"счёт\" + 0.105*\"банкомат\" + 0.098*\"отделение\" + 0.091*\"сумма\" + 0.090*\"сбербанк\"'),\n",
       " (1,\n",
       "  '0.593*\"вклад\" + 0.166*\"очередь\" + -0.159*\"кредит\" + 0.140*\"открыть\" + -0.137*\"заявление\" + -0.133*\"платёж\" + -0.122*\"задолженность\" + -0.108*\"погашение\" + 0.094*\"депозит\" + 0.093*\"офис\"'),\n",
       " (2,\n",
       "  '-0.380*\"кредит\" + 0.365*\"банкомат\" + 0.269*\"карта\" + -0.215*\"страховка\" + -0.172*\"договор\" + 0.159*\"сбербанк\" + -0.144*\"погашение\" + 0.140*\"деньга\" + 0.128*\"операция\" + -0.126*\"страхование\"'),\n",
       " (3,\n",
       "  '-0.303*\"вклад\" + 0.287*\"карта\" + -0.249*\"банкомат\" + 0.238*\"заявка\" + -0.186*\"сумма\" + -0.160*\"платёж\" + -0.157*\"деньга\" + -0.146*\"погашение\" + -0.137*\"средство\" + -0.129*\"руб\"'),\n",
       " (4,\n",
       "  '-0.344*\"банкомат\" + 0.343*\"карта\" + 0.258*\"вклад\" + -0.145*\"очередь\" + 0.129*\"задолженность\" + -0.122*\"заявка\" + 0.116*\"комиссия\" + -0.116*\"терминал\" + -0.116*\"купюра\" + -0.114*\"кредит\"'),\n",
       " (5,\n",
       "  '-0.287*\"вклад\" + -0.260*\"сбербанк\" + -0.212*\"заявление\" + 0.171*\"банкомат\" + -0.158*\"заявка\" + -0.151*\"рассмотрение\" + 0.131*\"комиссия\" + 0.130*\"платёж\" + -0.128*\"денежный\" + -0.128*\"обращение\"'),\n",
       " (6,\n",
       "  '0.457*\"страховка\" + 0.275*\"страхование\" + 0.229*\"банкомат\" + -0.185*\"платёж\" + 0.169*\"страховой\" + -0.168*\"задолженность\" + 0.155*\"карта\" + -0.151*\"номер\" + -0.131*\"звонок\" + -0.112*\"звонить\"'),\n",
       " (7,\n",
       "  '-0.250*\"карта\" + 0.227*\"перевод\" + -0.202*\"банкомат\" + 0.175*\"терминал\" + -0.166*\"заявление\" + 0.153*\"кошелёк\" + 0.146*\"услуга\" + 0.142*\"киви\" + 0.129*\"номер\" + 0.123*\"qiwi\"')]"
      ]
     },
     "execution_count": 56,
     "metadata": {},
     "output_type": "execute_result"
    }
   ],
   "source": [
    "lsi_8 = lsimodel.LsiModel(corpus = corpus_tfidf, id2word = dictionary, num_topics = 8)\n",
    "lsi_8.show_topics(8)"
   ]
  },
  {
   "cell_type": "markdown",
   "id": "28e1e782",
   "metadata": {},
   "source": [
    "Интерпретация тем:\n",
    "- 0 - Получение кредитных и дебетовых карт в отделениях в Сбербанка\n",
    "- 1 - Очереди на открытие депозитов в офисе банка\n",
    "- 2 - Операции по картам в банкоматах Сбербанка\n",
    "- 3 - Заявка на погашение долга по карте\n",
    "- 4 - Комиссии на погашение задолженности по карте\n",
    "- 5 - Комиссия за платежи в банкомате\n",
    "- 6 - Оформление страхования через банкомат с использованием карты\n",
    "- 7 - Услуги перевода по номеру телефона через терминалы Киви "
   ]
  },
  {
   "cell_type": "code",
   "execution_count": 61,
   "id": "83bf7b57",
   "metadata": {},
   "outputs": [
    {
     "data": {
      "text/plain": [
       "[(0,\n",
       "  '0.191*\"карта\" + 0.131*\"кредит\" + 0.110*\"заявление\" + 0.110*\"деньга\" + 0.109*\"вклад\" + 0.106*\"счёт\" + 0.105*\"банкомат\" + 0.098*\"отделение\" + 0.091*\"сумма\" + 0.090*\"сбербанк\"'),\n",
       " (1,\n",
       "  '0.569*\"вклад\" + -0.201*\"кредит\" + 0.165*\"очередь\" + -0.142*\"платёж\" + -0.139*\"заявление\" + 0.136*\"открыть\" + -0.126*\"погашение\" + -0.126*\"задолженность\" + -0.103*\"страховка\" + -0.097*\"руб\"'),\n",
       " (2,\n",
       "  '0.395*\"банкомат\" + -0.352*\"кредит\" + -0.257*\"страховка\" + 0.237*\"карта\" + -0.174*\"договор\" + 0.162*\"сбербанк\" + -0.152*\"страхование\" + 0.146*\"деньга\" + 0.127*\"операция\" + -0.127*\"документ\"')]"
      ]
     },
     "execution_count": 61,
     "metadata": {},
     "output_type": "execute_result"
    }
   ],
   "source": [
    "# Анализ с разбиением на 3 темы по результатам очень похож на предыдущий анализ с разбиением на 8 тем\n",
    "lsi_3 = lsimodel.LsiModel(corpus = corpus_tfidf, id2word = dictionary, num_topics = 3)\n",
    "lsi_3.show_topics(3)"
   ]
  },
  {
   "cell_type": "markdown",
   "id": "68b94b44",
   "metadata": {},
   "source": [
    "#### Задание 2.2"
   ]
  },
  {
   "cell_type": "code",
   "execution_count": 86,
   "id": "a3e2defa",
   "metadata": {},
   "outputs": [
    {
     "name": "stdout",
     "output_type": "stream",
     "text": [
      "0.191*\"карта\" + 0.130*\"кредит\" + 0.110*\"деньга\" + 0.110*\"заявление\" + 0.109*\"вклад\" + 0.106*\"счёт\" + 0.105*\"банкомат\" + 0.098*\"отделение\" + 0.091*\"сумма\" + 0.090*\"сбербанк\"\n",
      "-0.380*\"кредит\" + 0.365*\"банкомат\" + 0.269*\"карта\" + -0.215*\"страховка\" + -0.172*\"договор\" + 0.159*\"сбербанк\" + -0.144*\"погашение\" + 0.140*\"деньга\" + 0.128*\"операция\" + -0.126*\"страхование\"\n",
      "-0.287*\"вклад\" + -0.260*\"сбербанк\" + -0.212*\"заявление\" + 0.171*\"банкомат\" + -0.158*\"заявка\" + -0.151*\"рассмотрение\" + 0.131*\"комиссия\" + 0.130*\"платёж\" + -0.128*\"денежный\" + -0.128*\"обращение\"\n",
      "-0.250*\"карта\" + 0.227*\"перевод\" + -0.202*\"банкомат\" + 0.175*\"терминал\" + -0.166*\"заявление\" + 0.153*\"кошелёк\" + 0.146*\"услуга\" + 0.142*\"киви\" + 0.129*\"номер\" + 0.123*\"qiwi\"\n"
     ]
    }
   ],
   "source": [
    "for topic in lsi_8.show_topics(8):\n",
    "    num, words = topic\n",
    "    if 'сбербанк' in words:\n",
    "        print(words)\n",
    "    if 'киви' in words:\n",
    "        print(words)        "
   ]
  },
  {
   "cell_type": "markdown",
   "id": "5597aa78",
   "metadata": {},
   "source": [
    "Темы относящиеся к Сбербанку упоминают кредиты, вклады, использование карт и банкоматов, а относящиеся к Киви - переводы денег по номеру телефона."
   ]
  },
  {
   "cell_type": "markdown",
   "id": "ed95ba69",
   "metadata": {},
   "source": [
    "### Часть 3"
   ]
  },
  {
   "cell_type": "markdown",
   "id": "3c7552d1",
   "metadata": {},
   "source": [
    "#### Задание 3.1"
   ]
  },
  {
   "cell_type": "code",
   "execution_count": 3,
   "id": "0f1d5a6c",
   "metadata": {},
   "outputs": [],
   "source": [
    "# Множества отзывов с оценками 1 и 5, делаем множества равными для сбалансированности классов\n",
    "N1 = N2 = 10000\n",
    "data_N1 = data[data['rating_grade'] == 1][['text_lemmatize', 'rating_grade']].head(N1)\n",
    "data_N2 = data[data['rating_grade'] == 5][['text_lemmatize', 'rating_grade']].head(N2)\n",
    "data_all = pd.concat([data_N1, data_N2])\n",
    "# Перемешиваем строки случайным образом\n",
    "data_all = data_all.sample(frac = 1, random_state = 42)\n",
    "# Отбрасываем старые индексы\n",
    "data_all = data_all.reset_index(drop=True)\n",
    "# Пусть положительные отзывы будут обозначены 1, а отрицательные 0\n",
    "data_all['rating_grade'] = data_all['rating_grade'].replace(to_replace = 1, value = 0)\n",
    "data_all['rating_grade'] = data_all['rating_grade'].replace(to_replace = 5, value = 1)"
   ]
  },
  {
   "cell_type": "code",
   "execution_count": 4,
   "id": "b15c5def",
   "metadata": {},
   "outputs": [],
   "source": [
    "# Разбиваем на обучающую и тестовую выборки\n",
    "X_train, X_test, y_train, y_test = train_test_split(data_all['text_lemmatize'], data_all['rating_grade'], random_state = 42)  "
   ]
  },
  {
   "cell_type": "markdown",
   "id": "5bff7554",
   "metadata": {},
   "source": [
    "#### Задание 3.2"
   ]
  },
  {
   "cell_type": "code",
   "execution_count": 5,
   "id": "dc5ceff6",
   "metadata": {},
   "outputs": [],
   "source": [
    "# Преобразование текста в векторы\n",
    "vectorizer_uni = CountVectorizer()\n",
    "# Признаки\n",
    "X = vectorizer_uni.fit_transform(data_all['text_lemmatize'])\n",
    "# Целевые значения\n",
    "y = data_all['rating_grade']"
   ]
  },
  {
   "cell_type": "code",
   "execution_count": 6,
   "id": "a8aaf96b",
   "metadata": {},
   "outputs": [],
   "source": [
    "# Разбиваем на обучающую и тестовую выборки\n",
    "X_train, X_test, y_train, y_test = train_test_split(X, y, random_state = 42) "
   ]
  },
  {
   "cell_type": "code",
   "execution_count": 7,
   "id": "374828ff",
   "metadata": {},
   "outputs": [
    {
     "name": "stdout",
     "output_type": "stream",
     "text": [
      "Точность классификации с использованием отдельных слов составляет 0.8808\n"
     ]
    }
   ],
   "source": [
    "# Используем модель случайного леса\n",
    "model_forest_uni = RandomForestClassifier(n_estimators = 10, random_state = 42)\n",
    "model_forest_uni.fit(X_train, y_train)\n",
    "print(f'Точность классификации с использованием отдельных слов составляет {model_forest_uni.score(X_test, y_test)}')"
   ]
  },
  {
   "cell_type": "code",
   "execution_count": 8,
   "id": "347dd096",
   "metadata": {},
   "outputs": [],
   "source": [
    "# Преобразование текста в векторы с использованием биграмм\n",
    "vectorizer_bi = CountVectorizer(ngram_range = (1, 2))\n",
    "X = vectorizer_bi.fit_transform(data_all['text_lemmatize'])"
   ]
  },
  {
   "cell_type": "code",
   "execution_count": 9,
   "id": "8b19203f",
   "metadata": {},
   "outputs": [
    {
     "name": "stdout",
     "output_type": "stream",
     "text": [
      "Точность классификации с использованием отдельных слов и биграмм составляет 0.8634\n"
     ]
    }
   ],
   "source": [
    "X_train, X_test, y_train, y_test = train_test_split(X, y, random_state = 42) \n",
    "model_forest_bi = RandomForestClassifier(n_estimators = 10, random_state = 42)\n",
    "model_forest_bi.fit(X_train, y_train)\n",
    "print(f'Точность классификации с использованием отдельных слов и биграмм составляет {model_forest_bi.score(X_test, y_test)}')"
   ]
  },
  {
   "cell_type": "code",
   "execution_count": 10,
   "id": "2a489a0e",
   "metadata": {},
   "outputs": [
    {
     "name": "stdout",
     "output_type": "stream",
     "text": [
      "Точность классификации с использованием отдельных слов, биграмм и триграмм составляет 0.8586\n"
     ]
    }
   ],
   "source": [
    "# Преобразование текста в векторы с использованием триграмм\n",
    "vectorizer_tri = CountVectorizer(ngram_range = (1, 3))\n",
    "X = vectorizer_tri.fit_transform(data_all['text_lemmatize'])\n",
    "X_train, X_test, y_train, y_test = train_test_split(X, y, random_state = 42) \n",
    "model_forest_tri = RandomForestClassifier(n_estimators = 10, random_state = 42)\n",
    "model_forest_tri.fit(X_train, y_train)\n",
    "print(f'Точность классификации с использованием отдельных слов, биграмм и триграмм составляет {model_forest_tri.score(X_test, y_test)}')"
   ]
  },
  {
   "cell_type": "markdown",
   "id": "0604c6d2",
   "metadata": {},
   "source": [
    "В данном случае использование биграмм и триграмм не даёт выигрыша в точности классификации. Для сравнения в дальнейшем используем показатель качества модели с использование отдельных слов, который составляет 0,88."
   ]
  },
  {
   "cell_type": "markdown",
   "id": "be3dce19",
   "metadata": {},
   "source": [
    "#### Задание 3.3"
   ]
  },
  {
   "cell_type": "code",
   "execution_count": 11,
   "id": "f2bc191e",
   "metadata": {},
   "outputs": [],
   "source": [
    "# Преобразование текста в векторы\n",
    "vectorizer = CountVectorizer()\n",
    "vect = vectorizer.fit_transform(data_all['text_lemmatize'])\n",
    "# Признаки Tfidf\n",
    "tfidf_transformer = TfidfTransformer()\n",
    "tfidf = tfidf_transformer.fit_transform(vect)"
   ]
  },
  {
   "cell_type": "code",
   "execution_count": 12,
   "id": "7d0c096e",
   "metadata": {},
   "outputs": [],
   "source": [
    "# Латентый семантический анализ\n",
    "svd = TruncatedSVD(n_components = 25, n_iter = 10 , random_state = 42)\n",
    "X = svd.fit_transform(tfidf)"
   ]
  },
  {
   "cell_type": "code",
   "execution_count": 13,
   "id": "9b0366d8",
   "metadata": {},
   "outputs": [],
   "source": [
    "# Целевые значения\n",
    "y = data_all['rating_grade']\n",
    "# Разбиваем на обучающую и тестовую выборки\n",
    "X_train, X_test, y_train, y_test = train_test_split(X, y, random_state = 42) "
   ]
  },
  {
   "cell_type": "code",
   "execution_count": 14,
   "id": "6597617b",
   "metadata": {},
   "outputs": [
    {
     "name": "stdout",
     "output_type": "stream",
     "text": [
      "Точность классификации с использованием TF-IDF и SVD составляет 0.8824\n"
     ]
    }
   ],
   "source": [
    "# Классификация\n",
    "model_forest = RandomForestClassifier(n_estimators = 10, random_state = 42)\n",
    "model_forest.fit(X_train, y_train)\n",
    "print(f'Точность классификации с использованием TF-IDF и SVD составляет {model_forest.score(X_test, y_test)}')"
   ]
  },
  {
   "cell_type": "code",
   "execution_count": 23,
   "id": "7e36a5d4",
   "metadata": {},
   "outputs": [],
   "source": [
    "# Латентное размещение Дирихле\n",
    "lda = LatentDirichletAllocation(n_components = 25, random_state = 42)"
   ]
  },
  {
   "cell_type": "code",
   "execution_count": 24,
   "id": "bedc1bc9",
   "metadata": {},
   "outputs": [],
   "source": [
    "X = lda.fit_transform(vect)"
   ]
  },
  {
   "cell_type": "code",
   "execution_count": 27,
   "id": "27ae5409",
   "metadata": {},
   "outputs": [
    {
     "name": "stdout",
     "output_type": "stream",
     "text": [
      "Точность классификации с использованием LDA составляет 0.8994\n"
     ]
    }
   ],
   "source": [
    "# Разбиваем на обучающую и тестовую выборки\n",
    "X_train, X_test, y_train, y_test = train_test_split(X, y, random_state = 42) \n",
    "model_forest = RandomForestClassifier(n_estimators = 10, random_state = 42)\n",
    "model_forest.fit(X_train, y_train)\n",
    "print(f'Точность классификации с использованием LDA составляет {model_forest.score(X_test, y_test)}')"
   ]
  },
  {
   "cell_type": "markdown",
   "id": "ab86ac59",
   "metadata": {},
   "source": [
    "В данном случае наилучшую точность классификации обеспечивает LDA!"
   ]
  }
 ],
 "metadata": {
  "kernelspec": {
   "display_name": "Python 3",
   "language": "python",
   "name": "python3"
  },
  "language_info": {
   "codemirror_mode": {
    "name": "ipython",
    "version": 3
   },
   "file_extension": ".py",
   "mimetype": "text/x-python",
   "name": "python",
   "nbconvert_exporter": "python",
   "pygments_lexer": "ipython3",
   "version": "3.8.8"
  }
 },
 "nbformat": 4,
 "nbformat_minor": 5
}
